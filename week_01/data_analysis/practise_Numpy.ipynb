{
 "cells": [
  {
   "cell_type": "markdown",
   "id": "df0799b4",
   "metadata": {},
   "source": [
    "### Work with arrays using numpy"
   ]
  },
  {
   "cell_type": "code",
   "execution_count": 1,
   "id": "21df81c6",
   "metadata": {},
   "outputs": [],
   "source": [
    "# import libray\n",
    "import numpy as np"
   ]
  },
  {
   "cell_type": "code",
   "execution_count": 2,
   "id": "ba3268f0",
   "metadata": {},
   "outputs": [],
   "source": [
    "# One dimension array\n",
    "arr1 = np.array([1,2,3, np.nan], dtype=float)"
   ]
  },
  {
   "cell_type": "code",
   "execution_count": 3,
   "id": "f3f708cb",
   "metadata": {},
   "outputs": [],
   "source": [
    "# multi Dimension array\n",
    "arr2 = np.array([\n",
    "    [1,2,3,8],\n",
    "    [4,5,6,67],\n",
    "    [7,14,8, 45]\n",
    "])"
   ]
  },
  {
   "cell_type": "code",
   "execution_count": 4,
   "id": "e95c1cb1",
   "metadata": {},
   "outputs": [
    {
     "data": {
      "text/plain": [
       "(3, 4)"
      ]
     },
     "execution_count": 4,
     "metadata": {},
     "output_type": "execute_result"
    }
   ],
   "source": [
    "# Check the shape of array (number of rows and columns)\n",
    "arr2.shape"
   ]
  },
  {
   "cell_type": "code",
   "execution_count": 5,
   "id": "7e5804e1",
   "metadata": {},
   "outputs": [
    {
     "data": {
      "text/plain": [
       "dtype('int64')"
      ]
     },
     "execution_count": 5,
     "metadata": {},
     "output_type": "execute_result"
    }
   ],
   "source": [
    "# check data type \n",
    "arr2.dtype"
   ]
  },
  {
   "cell_type": "code",
   "execution_count": 6,
   "id": "e65cdfa7",
   "metadata": {},
   "outputs": [
    {
     "data": {
      "text/plain": [
       "array([[ 3,  4,  5, 10],\n",
       "       [ 6,  7,  8, 69],\n",
       "       [ 9, 16, 10, 47]])"
      ]
     },
     "execution_count": 6,
     "metadata": {},
     "output_type": "execute_result"
    }
   ],
   "source": [
    "# sum all element of array by 2\n",
    "\n",
    "arr2 = arr2 + 2\n",
    "arr2"
   ]
  },
  {
   "cell_type": "code",
   "execution_count": 7,
   "id": "dbb5866d",
   "metadata": {},
   "outputs": [
    {
     "data": {
      "text/plain": [
       "np.int64(69)"
      ]
     },
     "execution_count": 7,
     "metadata": {},
     "output_type": "execute_result"
    }
   ],
   "source": [
    "#maximum value of array\n",
    "arr2.max()"
   ]
  },
  {
   "cell_type": "code",
   "execution_count": 8,
   "id": "0a4d69e6",
   "metadata": {},
   "outputs": [
    {
     "data": {
      "text/plain": [
       "np.int64(3)"
      ]
     },
     "execution_count": 8,
     "metadata": {},
     "output_type": "execute_result"
    }
   ],
   "source": [
    "# minimum value of array\n",
    "arr2.min()"
   ]
  },
  {
   "cell_type": "code",
   "execution_count": 9,
   "id": "debc4f77",
   "metadata": {},
   "outputs": [
    {
     "data": {
      "text/plain": [
       "np.float64(16.166666666666668)"
      ]
     },
     "execution_count": 9,
     "metadata": {},
     "output_type": "execute_result"
    }
   ],
   "source": [
    "# average or mean \n",
    "arr2.mean()"
   ]
  },
  {
   "cell_type": "code",
   "execution_count": 10,
   "id": "9d92b0fe",
   "metadata": {},
   "outputs": [
    {
     "name": "stdout",
     "output_type": "stream",
     "text": [
      "[[1.73205081 2.         2.23606798 3.16227766]\n",
      " [2.44948974 2.64575131 2.82842712 8.30662386]\n",
      " [3.         4.         3.16227766 6.8556546 ]]\n"
     ]
    }
   ],
   "source": [
    "# sqrt of each element\n",
    "print(np.sqrt(arr2))"
   ]
  },
  {
   "cell_type": "code",
   "execution_count": 11,
   "id": "dd0d14ce",
   "metadata": {},
   "outputs": [],
   "source": [
    "# replace the value of index 3 \n",
    "arr1[3] = 89\n"
   ]
  },
  {
   "cell_type": "code",
   "execution_count": 12,
   "id": "9a8b4fb0",
   "metadata": {},
   "outputs": [
    {
     "data": {
      "text/plain": [
       "array([ 1.,  2.,  3., 89.])"
      ]
     },
     "execution_count": 12,
     "metadata": {},
     "output_type": "execute_result"
    }
   ],
   "source": [
    "arr1"
   ]
  },
  {
   "cell_type": "code",
   "execution_count": 13,
   "id": "02b95302",
   "metadata": {},
   "outputs": [
    {
     "data": {
      "text/plain": [
       "array([ 1.,  2.,  3., 89.,  3.,  4.,  5., 10.,  6.,  7.,  8., 69.,  9.,\n",
       "       16., 10., 47.])"
      ]
     },
     "execution_count": 13,
     "metadata": {},
     "output_type": "execute_result"
    }
   ],
   "source": [
    "# concatenate arrays\n",
    "\n",
    "np.concatenate((arr1 , arr2.ravel()))"
   ]
  },
  {
   "cell_type": "code",
   "execution_count": 14,
   "id": "30282908",
   "metadata": {},
   "outputs": [
    {
     "data": {
      "text/plain": [
       "array([[ 3,  6,  9],\n",
       "       [ 4,  7, 16],\n",
       "       [ 5,  8, 10],\n",
       "       [10, 69, 47]])"
      ]
     },
     "execution_count": 14,
     "metadata": {},
     "output_type": "execute_result"
    }
   ],
   "source": [
    "# Transpose array interchange of rows and columns\n",
    "np.transpose(arr2)"
   ]
  },
  {
   "cell_type": "code",
   "execution_count": 15,
   "id": "bba60ffa",
   "metadata": {},
   "outputs": [
    {
     "data": {
      "text/plain": [
       "array([[0.73409281, 0.22255419, 0.99184874, 0.87341664],\n",
       "       [0.48710226, 0.919275  , 0.99052852, 0.233439  ]])"
      ]
     },
     "execution_count": 15,
     "metadata": {},
     "output_type": "execute_result"
    }
   ],
   "source": [
    "#  Generate random number of each element of rows and columns\n",
    "arr3 =np.array(np.random.rand(2,4))\n",
    "arr3"
   ]
  }
 ],
 "metadata": {
  "kernelspec": {
   "display_name": "Python 3",
   "language": "python",
   "name": "python3"
  },
  "language_info": {
   "codemirror_mode": {
    "name": "ipython",
    "version": 3
   },
   "file_extension": ".py",
   "mimetype": "text/x-python",
   "name": "python",
   "nbconvert_exporter": "python",
   "pygments_lexer": "ipython3",
   "version": "3.9.21"
  }
 },
 "nbformat": 4,
 "nbformat_minor": 5
}
